{
 "cells": [
  {
   "cell_type": "code",
   "execution_count": 1,
   "id": "verbal-pioneer",
   "metadata": {},
   "outputs": [],
   "source": [
    "import numpy as np\n",
    "array1 = np.array([[10, 8], [3, 5]])"
   ]
  },
  {
   "cell_type": "code",
   "execution_count": 2,
   "id": "liberal-compound",
   "metadata": {},
   "outputs": [
    {
     "data": {
      "text/plain": [
       "True"
      ]
     },
     "execution_count": 2,
     "metadata": {},
     "output_type": "execute_result"
    }
   ],
   "source": [
    "# 運用上列array計算反矩陣，乘上原矩陣，並觀察是否為單位矩陣?\n",
    "inv_arr = np.linalg.inv(array1)\n",
    "outer_arr = array1 @ inv_arr\n",
    "isIdentity = len(outer_arr[0]) == np.trace(outer_arr)\n",
    "isIdentity"
   ]
  },
  {
   "cell_type": "code",
   "execution_count": 3,
   "id": "atlantic-plenty",
   "metadata": {},
   "outputs": [
    {
     "data": {
      "text/plain": [
       "array([[ 0.93632918, -0.70710678],\n",
       "       [ 0.35112344,  0.70710678]])"
      ]
     },
     "execution_count": 3,
     "metadata": {},
     "output_type": "execute_result"
    }
   ],
   "source": [
    "# 運用上列array計算特徵值、特徵向量?\n",
    "eigenvalues, eigenvectors = np.linalg.eig(array1)\n",
    "eigenvalues\n",
    "eigenvectors"
   ]
  },
  {
   "cell_type": "code",
   "execution_count": 4,
   "id": "welcome-martin",
   "metadata": {},
   "outputs": [
    {
     "data": {
      "text/plain": [
       "array([[-0.74319741, -0.6690722 ],\n",
       "       [-0.6690722 ,  0.74319741]])"
      ]
     },
     "execution_count": 4,
     "metadata": {},
     "output_type": "execute_result"
    }
   ],
   "source": [
    "# 運用上列array計算SVD?\n",
    "u, s, vh = np.linalg.svd(array1)\n",
    "u\n",
    "s\n",
    "vh"
   ]
  }
 ],
 "metadata": {
  "kernelspec": {
   "display_name": "Python 3",
   "language": "python",
   "name": "python3"
  },
  "language_info": {
   "codemirror_mode": {
    "name": "ipython",
    "version": 3
   },
   "file_extension": ".py",
   "mimetype": "text/x-python",
   "name": "python",
   "nbconvert_exporter": "python",
   "pygments_lexer": "ipython3",
   "version": "3.8.5"
  }
 },
 "nbformat": 4,
 "nbformat_minor": 5
}
