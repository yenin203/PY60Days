{
 "cells": [
  {
   "cell_type": "code",
   "execution_count": null,
   "id": "recreational-narrow",
   "metadata": {},
   "outputs": [],
   "source": [
    "# 電影院裡通常都是成對情侶一起去看，假設電影院中有100 個人裡面，\n",
    "# 有 90 名男性和 10 名女性。在這 10 名女性裡，有一半的人有長髮（5 人），\n",
    "# 另一半有短髮（5人）；\n",
    "# 在 90 名男性當中，81 個人有短髮，9個人有長髮。"
   ]
  },
  {
   "cell_type": "code",
   "execution_count": null,
   "id": "psychological-plant",
   "metadata": {},
   "outputs": [],
   "source": [
    "# Q1：所以根據這個情況條件下。你會預測照片中的長髮是男性或女性？ (直覺回答)\n",
    "# 男性"
   ]
  },
  {
   "cell_type": "code",
   "execution_count": 11,
   "id": "planned-burning",
   "metadata": {},
   "outputs": [
    {
     "name": "stdout",
     "output_type": "stream",
     "text": [
      "P(女生|長髮) = 35.71%\n"
     ]
    }
   ],
   "source": [
    "p_a = P_girl\n",
    "p_b_given_a = 5 / 10\n",
    "p_b_given_not_a = 9 / 90\n",
    "def bayes_theorem(p_a, p_b_given_a, p_b_given_not_a):\n",
    "\t# calculate P(not A)\n",
    "\tnot_a = 1 - p_a\n",
    "\t# calculate P(B)\n",
    "\tp_b = p_b_given_a * p_a + p_b_given_not_a * not_a\n",
    "\t# calculate P(A|B)\n",
    "\tp_a_given_b = (p_b_given_a * p_a) / p_b\n",
    "\treturn p_a_given_b\n",
    "result = bayes_theorem(p_a, p_b_given_a, p_b_given_not_a)\n",
    "# Q2：以下圖資料，計算當你看到長髮時，是女生的機率？\n",
    "print('P(女生|長髮) = {0}%'.format(round(result * 100,2)))"
   ]
  },
  {
   "cell_type": "code",
   "execution_count": 9,
   "id": "hourly-conditioning",
   "metadata": {},
   "outputs": [],
   "source": [
    "# Q3：你的決策因為男生女生比例不同 (先驗分配不同)，決策有沒有改變？\n",
    "# 沒有"
   ]
  }
 ],
 "metadata": {
  "kernelspec": {
   "display_name": "Python 3",
   "language": "python",
   "name": "python3"
  },
  "language_info": {
   "codemirror_mode": {
    "name": "ipython",
    "version": 3
   },
   "file_extension": ".py",
   "mimetype": "text/x-python",
   "name": "python",
   "nbconvert_exporter": "python",
   "pygments_lexer": "ipython3",
   "version": "3.9.1"
  }
 },
 "nbformat": 4,
 "nbformat_minor": 5
}
