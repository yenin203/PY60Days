{
 "cells": [
  {
   "cell_type": "code",
   "execution_count": 1,
   "id": "horizontal-frederick",
   "metadata": {},
   "outputs": [
    {
     "data": {
      "text/plain": [
       "0.8413447460685429"
      ]
     },
     "execution_count": 1,
     "metadata": {},
     "output_type": "execute_result"
    }
   ],
   "source": [
    "# library\n",
    "import matplotlib.pyplot as plt\n",
    "import numpy as np\n",
    "from scipy import stats\n",
    "import math\n",
    "import seaborn as sns\n",
    "# Q1:計算標準常態分配，小於1的機率有多大?\n",
    "#  提示: 用 cdf 來算\n",
    "mu=0\n",
    "sigma=1\n",
    "smallerone = stats.norm.cdf(1, mu, sigma)\n",
    "smallerone"
   ]
  },
  {
   "cell_type": "code",
   "execution_count": 2,
   "id": "comprehensive-blues",
   "metadata": {},
   "outputs": [
    {
     "data": {
      "text/plain": [
       "0.31731050786291415"
      ]
     },
     "execution_count": 2,
     "metadata": {},
     "output_type": "execute_result"
    }
   ],
   "source": [
    "# Q2:計算標準常態分配，大於1，小於 -1 的機率有多大?\n",
    "r2 = stats.norm.cdf(-1, mu, sigma)\n",
    "1 - smallerone  + r2"
   ]
  },
  {
   "cell_type": "code",
   "execution_count": 3,
   "id": "statewide-grenada",
   "metadata": {},
   "outputs": [],
   "source": [
    "# Q3:X~N(2,4),x 服從常態分配，平均數為2,變異數為 4，計算 X小於 6 的機率有多大?\n",
    "# X ~ N(μ,σ2) 透過標準化，將一般常態轉成標準常態分配，標準常態分配的符號為 Z。\n",
    "# Z = (X - μ)/σ"
   ]
  },
  {
   "cell_type": "code",
   "execution_count": 4,
   "id": "beautiful-interface",
   "metadata": {},
   "outputs": [
    {
     "data": {
      "text/plain": [
       "0.9772498680518208"
      ]
     },
     "execution_count": 4,
     "metadata": {},
     "output_type": "execute_result"
    }
   ],
   "source": [
    "# 常態分配的平均數\n",
    "mu=2\n",
    "# 常態分配的變異數\n",
    "sigma2 = 4\n",
    "stats.norm.cdf(6 , mu, (6 - mu) / math.sqrt(sigma2))"
   ]
  }
 ],
 "metadata": {
  "kernelspec": {
   "display_name": "Python 3",
   "language": "python",
   "name": "python3"
  },
  "language_info": {
   "codemirror_mode": {
    "name": "ipython",
    "version": 3
   },
   "file_extension": ".py",
   "mimetype": "text/x-python",
   "name": "python",
   "nbconvert_exporter": "python",
   "pygments_lexer": "ipython3",
   "version": "3.9.1"
  }
 },
 "nbformat": 4,
 "nbformat_minor": 5
}
