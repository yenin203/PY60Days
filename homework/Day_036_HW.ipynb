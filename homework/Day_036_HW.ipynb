{
 "cells": [
  {
   "cell_type": "code",
   "execution_count": 20,
   "id": "distinct-resource",
   "metadata": {},
   "outputs": [],
   "source": [
    "import matplotlib.pyplot as plt\n",
    "import numpy as np\n",
    "import pandas as pd\n",
    "from scipy import stats\n",
    "import math\n",
    "import statistics\n",
    "import seaborn as sns\n",
    "import statsmodels.stats.proportion"
   ]
  },
  {
   "cell_type": "code",
   "execution_count": 31,
   "id": "tough-invasion",
   "metadata": {},
   "outputs": [],
   "source": [
    "# 某工廠想知道兩條不同的生產線的產品不良率是否有所不同，由兩條生產線中各抽取 300 個樣本，\n",
    "# 第一組有 75 個不良品，第二組有 30 個不良品，我們可以宣稱生產線所生產出的產品不良率不相同？(以0.05 為顯著水準)？)"
   ]
  },
  {
   "cell_type": "code",
   "execution_count": 41,
   "id": "beneficial-worry",
   "metadata": {},
   "outputs": [
    {
     "name": "stdout",
     "output_type": "stream",
     "text": [
      "Z-test: 檢定量 4.834937784152282\n",
      "P-value: 這樣檢定量下的 p-value值 0.00000133\n",
      "P-value > 0.05(顯著水準) = False 可知拒絕H0 Pa!=Pb\n"
     ]
    }
   ],
   "source": [
    "# H0: Pa == Pb 相同\n",
    "# H1: Pa != Pb 不相同\n",
    "A = [75, 30] # 有開信的個數\n",
    "B = [300,300] #各組實驗總個數\n",
    "x, p = statsmodels.stats.proportion.proportions_ztest(A, B, alternative='two-sided')\n",
    "# alternative: ‘two-sided’, ‘smaller’, ‘larger’ 分別代表 雙尾檢定，左尾檢定與右尾檢定\n",
    "print(\"Z-test: 檢定量 %s\" % x)\n",
    "print(\"P-value: 這樣檢定量下的 p-value值 %s\" % ('{:.8f}'.format(p)))\n",
    "print(\"P-value > 0.05(顯著水準) = %r 可知拒絕H0 Pa!=Pb\" % ((p) > 0.05))"
   ]
  },
  {
   "cell_type": "code",
   "execution_count": 45,
   "id": "documented-parks",
   "metadata": {},
   "outputs": [
    {
     "data": {
      "text/plain": [
       "(4.834937784152282, 0.9999993340635781)"
      ]
     },
     "execution_count": 45,
     "metadata": {},
     "output_type": "execute_result"
    }
   ],
   "source": [
    "x, p = statsmodels.stats.proportion.proportions_ztest(A, B, alternative='smaller')\n",
    "x, p"
   ]
  },
  {
   "cell_type": "code",
   "execution_count": 46,
   "id": "northern-sessions",
   "metadata": {},
   "outputs": [
    {
     "data": {
      "text/plain": [
       "(4.834937784152282, 6.659364219501814e-07)"
      ]
     },
     "execution_count": 46,
     "metadata": {},
     "output_type": "execute_result"
    }
   ],
   "source": [
    "x, p = statsmodels.stats.proportion.proportions_ztest(A, B, alternative='larger')\n",
    "x, p"
   ]
  }
 ],
 "metadata": {
  "kernelspec": {
   "display_name": "Python 3",
   "language": "python",
   "name": "python3"
  },
  "language_info": {
   "codemirror_mode": {
    "name": "ipython",
    "version": 3
   },
   "file_extension": ".py",
   "mimetype": "text/x-python",
   "name": "python",
   "nbconvert_exporter": "python",
   "pygments_lexer": "ipython3",
   "version": "3.9.1"
  }
 },
 "nbformat": 4,
 "nbformat_minor": 5
}
