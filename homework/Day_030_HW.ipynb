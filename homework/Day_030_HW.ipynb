{
 "cells": [
  {
   "cell_type": "code",
   "execution_count": 1,
   "metadata": {},
   "outputs": [
    {
     "data": {
      "image/png": "[encoded data removed]",
      "text/plain": [
       "<Figure size 432x288 with 1 Axes>"
      ]
     },
     "metadata": {
      "needs_background": "light"
     },
     "output_type": "display_data"
    }
   ],
   "source": [
    "# library\n",
    "import matplotlib.pyplot as plt\n",
    "import numpy as np\n",
    "import pandas as pd\n",
    "from scipy import stats\n",
    "import math\n",
    "import statistics\n",
    "# 包含以下離散型分配\n",
    "# 離散均勻分配( Discrete Uniform Distribution )\n",
    "# 伯努利分配( Bernoulli Distribution )\n",
    "# 二項分配(Binomial Distribution)\n",
    "# 丟一個銅板，丟了100次，出現正面 50 次的機率有多大。\n",
    "p = 0.5 # 正反兩面單一結果是一半 0.5\n",
    "n = 100  # 重複實驗100次,\n",
    "# r = np.arange(0, 100)# 可以出現的範圍為 0~100,100種可能出現的結果\n",
    "k = np.linspace(stats.binom.ppf(0.01,n,p), stats.binom.ppf(0.99,n,p), n+1) #另一種方式\n",
    "# ②計算二項分佈的概率質量分佈 (probability mass function)\n",
    "# 之所以稱為質量，是因為離散的點，預設體積（即寬度）為1\n",
    "# P(X=x) --> 是概率\n",
    "probs = stats.binom.pmf(k, n, p)\n",
    "plt.bar( k, probs )\n",
    "plt.ylabel( 'P(X=x)' )\n",
    "plt.xlabel( 'x' )\n",
    "plt.title( 'Binomial(n=100,p=0.5)' )\n",
    "plt.show()"
   ]
  },
  {
   "cell_type": "code",
   "execution_count": 3,
   "metadata": {},
   "outputs": [
    {
     "data": {
      "text/plain": [
       "0.07958923738717888"
      ]
     },
     "execution_count": 3,
     "metadata": {},
     "output_type": "execute_result"
    }
   ],
   "source": [
    "probs[50]"
   ]
  }
 ],
 "metadata": {
  "kernelspec": {
   "display_name": "Python 3",
   "language": "python",
   "name": "python3"
  },
  "language_info": {
   "codemirror_mode": {
    "name": "ipython",
    "version": 3
   },
   "file_extension": ".py",
   "mimetype": "text/x-python",
   "name": "python",
   "nbconvert_exporter": "python",
   "pygments_lexer": "ipython3",
   "version": "3.8.5"
  }
 },
 "nbformat": 4,
 "nbformat_minor": 4
}
