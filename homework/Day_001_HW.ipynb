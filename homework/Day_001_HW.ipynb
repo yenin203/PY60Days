{
 "cells": [
  {
   "cell_type": "code",
   "execution_count": 1,
   "id": "flexible-donor",
   "metadata": {},
   "outputs": [],
   "source": [
    "import numpy as np\n",
    "sNum = 0\n",
    "eNum = 20\n",
    "multi = 3"
   ]
  },
  {
   "cell_type": "code",
   "execution_count": 3,
   "id": "beneficial-irish",
   "metadata": {},
   "outputs": [
    {
     "data": {
      "text/plain": [
       "array([ 0,  1,  2,  3,  4,  5,  6,  7,  8,  9, 10, 11, 12, 13, 14, 15, 16,\n",
       "       17, 18, 19, 20])"
      ]
     },
     "execution_count": 3,
     "metadata": {},
     "output_type": "execute_result"
    }
   ],
   "source": [
    "#1.生成一個等差數列，首數為0，尾數為20，公差為1的數列。\n",
    "answer1 = np.arange(sNum, eNum - sNum + 1) #整數等差1\n",
    "answer1"
   ]
  },
  {
   "cell_type": "code",
   "execution_count": 5,
   "id": "international-estimate",
   "metadata": {},
   "outputs": [
    {
     "data": {
      "text/plain": [
       "array([ 0,  2,  4,  6,  8, 10, 12, 14, 16, 18, 20])"
      ]
     },
     "execution_count": 5,
     "metadata": {},
     "output_type": "execute_result"
    }
   ],
   "source": [
    "#2.呈上題，將以上數列取出偶數。\n",
    "answer2 = answer1[sNum:eNum - sNum + 1:2]\n",
    "answer2"
   ]
  },
  {
   "cell_type": "code",
   "execution_count": 7,
   "id": "thirty-windsor",
   "metadata": {},
   "outputs": [
    {
     "data": {
      "text/plain": [
       "array([ 3,  6,  9, 12, 15, 18])"
      ]
     },
     "execution_count": 7,
     "metadata": {},
     "output_type": "execute_result"
    }
   ],
   "source": [
    "#3.呈1題，將數列取出3的倍數。\n",
    "answer3 = answer1[multi:eNum - sNum + 1:multi]\n",
    "answer3"
   ]
  },
  {
   "cell_type": "code",
   "execution_count": null,
   "id": "fifty-mumbai",
   "metadata": {},
   "outputs": [],
   "source": []
  }
 ],
 "metadata": {
  "kernelspec": {
   "display_name": "Python 3",
   "language": "python",
   "name": "python3"
  },
  "language_info": {
   "codemirror_mode": {
    "name": "ipython",
    "version": 3
   },
   "file_extension": ".py",
   "mimetype": "text/x-python",
   "name": "python",
   "nbconvert_exporter": "python",
   "pygments_lexer": "ipython3",
   "version": "3.9.1"
  }
 },
 "nbformat": 4,
 "nbformat_minor": 5
}
