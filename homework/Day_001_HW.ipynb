{
 "cells": [
  {
   "cell_type": "code",
   "execution_count": 1,
   "id": "flexible-donor",
   "metadata": {},
   "outputs": [],
   "source": [
    "import numpy as np\n",
    "import sys\n",
    "sNum = 0\n",
    "eNum = 20\n",
    "multi = 3"
   ]
  },
  {
   "cell_type": "code",
   "execution_count": 2,
   "id": "beneficial-irish",
   "metadata": {},
   "outputs": [
    {
     "data": {
      "text/plain": [
       "array([ 0,  1,  2,  3,  4,  5,  6,  7,  8,  9, 10, 11, 12, 13, 14, 15, 16,\n",
       "       17, 18, 19, 20])"
      ]
     },
     "execution_count": 2,
     "metadata": {},
     "output_type": "execute_result"
    }
   ],
   "source": [
    "#1.生成一個等差數列，首數為0，尾數為20，公差為1的數列。\n",
    "answer1 = np.arange(sNum, eNum - sNum + 1) #整數等差1\n",
    "answer1"
   ]
  },
  {
   "cell_type": "code",
   "execution_count": 3,
   "id": "international-estimate",
   "metadata": {},
   "outputs": [
    {
     "data": {
      "text/plain": [
       "array([ 0,  2,  4,  6,  8, 10, 12, 14, 16, 18, 20])"
      ]
     },
     "execution_count": 3,
     "metadata": {},
     "output_type": "execute_result"
    }
   ],
   "source": [
    "#2.呈上題，將以上數列取出偶數。\n",
    "answer2 = answer1[sNum:eNum - sNum + 1:2]\n",
    "answer2"
   ]
  },
  {
   "cell_type": "code",
   "execution_count": 4,
   "id": "thirty-windsor",
   "metadata": {},
   "outputs": [
    {
     "data": {
      "text/plain": [
       "array([ 3,  6,  9, 12, 15, 18])"
      ]
     },
     "execution_count": 4,
     "metadata": {},
     "output_type": "execute_result"
    }
   ],
   "source": [
    "#3.呈1題，將數列取出3的倍數。\n",
    "answer3 = answer1[multi:eNum - sNum + 1:multi]\n",
    "answer3"
   ]
  },
  {
   "cell_type": "code",
   "execution_count": 5,
   "id": "fifty-mumbai",
   "metadata": {},
   "outputs": [
    {
     "name": "stdout",
     "output_type": "stream",
     "text": [
      "list(a):  [0, 2, 4, 6, 8, 10, 12, 14, 16, 18, 20]\n",
      "tolist():  [0, 2, 4, 6, 8, 10, 12, 14, 16, 18, 20]\n",
      "list() 資料格式為 <class 'numpy.int64'> 資料 整数（-9223372036854775808至9223372036854775807）\n",
      "tolist(): 資料格式為 <class 'int'> Python 3 int没有最大值\n"
     ]
    }
   ],
   "source": [
    "# 4. [簡答題] 請問下列兩種將 Array 轉換成 List 的方式有何不同？\n",
    "print('list(a): ', list(answer2))\n",
    "print('tolist(): ', answer2.tolist())\n",
    "\n",
    "print(\"list() 資料格式為\", type(list(answer2)[1]) , \"資料 整数（-9223372036854775808至9223372036854775807）\")\n",
    "print(\"tolist(): 資料格式為\", type(answer2.tolist()[1]) , 'Python 3 int没有最大值')\n",
    "# 資料格式不同 第一種list 轉為numpy格式的資料, tolist 是轉成python int"
   ]
  },
  {
   "cell_type": "code",
   "execution_count": 30,
   "id": "closing-stone",
   "metadata": {},
   "outputs": [
    {
     "name": "stdout",
     "output_type": "stream",
     "text": [
      "ndim =  1\n",
      "shape =  (6,)\n",
      "size =  6\n",
      "dtype =  int64\n",
      "itemsize =  8\n",
      "type =  <class 'numpy.int64'>\n",
      "ndim =  2\n",
      "shape =  (3, 4)\n",
      "size =  12\n",
      "dtype =  int64\n",
      "itemsize =  8\n",
      "type =  <class 'numpy.ndarray'>\n",
      "ndim =  3\n",
      "shape =  (2, 3, 2)\n",
      "size =  12\n",
      "dtype =  int64\n",
      "itemsize =  8\n",
      "type =  <class 'numpy.ndarray'>\n"
     ]
    }
   ],
   "source": [
    "# 5.請試著在程式中印出以下三個 NdArray 的屬性？（屬性：ndim、shape、size、dtype、itemsize、length、type）\n",
    "def printAttrs(a):\n",
    "    print('ndim = ', a.ndim)\n",
    "    print('shape = ', a.shape)\n",
    "    print('size = ', a.size)\n",
    "    print('dtype = ', a.dtype)\n",
    "    print('itemsize = ', a.itemsize)\n",
    "    print('type = ', type(a[0]))\n",
    "a = np.random.randint(10, size=6) \n",
    "b = np.random.randint(10, size=(3,4)) \n",
    "c = np.random.randint(10, size=(2,3,2)) \n",
    "printAttrs(a)\n",
    "printAttrs(b)\n",
    "printAttrs(c)"
   ]
  },
  {
   "cell_type": "code",
   "execution_count": 32,
   "id": "stuffed-walker",
   "metadata": {},
   "outputs": [
    {
     "data": {
      "text/plain": [
       "int"
      ]
     },
     "execution_count": 32,
     "metadata": {},
     "output_type": "execute_result"
    }
   ],
   "source": [
    "# 6.如何利用 list(...) 實現 a.tolist() 的效果？試著用程式實作。\n",
    "results = list(map(int, a))\n",
    "type(results[1])"
   ]
  }
 ],
 "metadata": {
  "kernelspec": {
   "display_name": "Python 3",
   "language": "python",
   "name": "python3"
  },
  "language_info": {
   "codemirror_mode": {
    "name": "ipython",
    "version": 3
   },
   "file_extension": ".py",
   "mimetype": "text/x-python",
   "name": "python",
   "nbconvert_exporter": "python",
   "pygments_lexer": "ipython3",
   "version": "3.8.5"
  }
 },
 "nbformat": 4,
 "nbformat_minor": 5
}
