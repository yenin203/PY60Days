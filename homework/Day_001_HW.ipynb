{
 "cells": [
  {
   "cell_type": "code",
   "execution_count": 1,
   "id": "flexible-donor",
   "metadata": {},
   "outputs": [],
   "source": [
    "import numpy as np\n",
    "sNum = 0\n",
    "eNum = 20\n",
    "multi = 3"
   ]
  },
  {
   "cell_type": "code",
   "execution_count": 2,
   "id": "beneficial-irish",
   "metadata": {},
   "outputs": [],
   "source": [
    "#1.生成一個等差數列，首數為0，尾數為20，公差為1的數列。\n",
    "answer1 = np.arange(sNum, eNum - sNum + 1) #整數等差1"
   ]
  },
  {
   "cell_type": "code",
   "execution_count": 3,
   "id": "international-estimate",
   "metadata": {},
   "outputs": [],
   "source": [
    "#2.呈上題，將以上數列取出偶數。\n",
    "answer2 = answer1[sNum:eNum - sNum + 1:2]"
   ]
  },
  {
   "cell_type": "code",
   "execution_count": 4,
   "id": "thirty-windsor",
   "metadata": {},
   "outputs": [
    {
     "name": "stdout",
     "output_type": "stream",
     "text": [
      "[ 0  1  2  3  4  5  6  7  8  9 10 11 12 13 14 15 16 17 18 19 20]\n",
      "[ 0  2  4  6  8 10 12 14 16 18 20]\n",
      "[ 3  6  9 12 15 18]\n"
     ]
    }
   ],
   "source": [
    "#3.呈1題，將數列取出3的倍數。\n",
    "answer3 = answer1[multi:eNum - sNum + 1:multi]\n",
    "print(answer1)\n",
    "print(answer2)\n",
    "print(answer3)"
   ]
  },
  {
   "cell_type": "code",
   "execution_count": null,
   "id": "fifty-mumbai",
   "metadata": {},
   "outputs": [],
   "source": []
  }
 ],
 "metadata": {
  "kernelspec": {
   "display_name": "Python 3",
   "language": "python",
   "name": "python3"
  },
  "language_info": {
   "codemirror_mode": {
    "name": "ipython",
    "version": 3
   },
   "file_extension": ".py",
   "mimetype": "text/x-python",
   "name": "python",
   "nbconvert_exporter": "python",
   "pygments_lexer": "ipython3",
   "version": "3.9.1"
  }
 },
 "nbformat": 4,
 "nbformat_minor": 5
}
