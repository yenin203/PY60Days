{
 "cells": [
  {
   "cell_type": "code",
   "execution_count": 1,
   "id": "thick-criminal",
   "metadata": {},
   "outputs": [
    {
     "data": {
      "text/plain": [
       "2019-01-01     0\n",
       "2019-01-02     1\n",
       "2019-01-03     2\n",
       "2019-01-04     3\n",
       "2019-01-05     4\n",
       "2019-01-06     5\n",
       "2019-01-07     6\n",
       "2019-01-08     7\n",
       "2019-01-09     8\n",
       "2019-01-10     9\n",
       "2019-01-11    10\n",
       "2019-01-12    11\n",
       "2019-01-13    12\n",
       "2019-01-14    13\n",
       "2019-01-15    14\n",
       "2019-01-16    15\n",
       "2019-01-17    16\n",
       "2019-01-18    17\n",
       "2019-01-19    18\n",
       "2019-01-20    19\n",
       "Freq: D, dtype: int64"
      ]
     },
     "execution_count": 1,
     "metadata": {},
     "output_type": "execute_result"
    }
   ],
   "source": [
    "import pandas as pd\n",
    "index = pd.date_range(\"1/1/2019\", periods=20, freq='D')\n",
    "series = pd.Series(range(20), index=index)\n",
    "series"
   ]
  },
  {
   "cell_type": "code",
   "execution_count": 2,
   "id": "congressional-restaurant",
   "metadata": {},
   "outputs": [
    {
     "data": {
      "text/plain": [
       "2018-12-31/2019-01-06     0\n",
       "2018-12-31/2019-01-06     1\n",
       "2018-12-31/2019-01-06     2\n",
       "2018-12-31/2019-01-06     3\n",
       "2018-12-31/2019-01-06     4\n",
       "2018-12-31/2019-01-06     5\n",
       "2019-01-07/2019-01-13     6\n",
       "2019-01-07/2019-01-13     7\n",
       "2019-01-07/2019-01-13     8\n",
       "2019-01-07/2019-01-13     9\n",
       "2019-01-07/2019-01-13    10\n",
       "2019-01-07/2019-01-13    11\n",
       "2019-01-07/2019-01-13    12\n",
       "2019-01-14/2019-01-20    13\n",
       "2019-01-14/2019-01-20    14\n",
       "2019-01-14/2019-01-20    15\n",
       "2019-01-14/2019-01-20    16\n",
       "2019-01-14/2019-01-20    17\n",
       "2019-01-14/2019-01-20    18\n",
       "2019-01-14/2019-01-20    19\n",
       "Freq: W-SUN, dtype: int64"
      ]
     },
     "execution_count": 2,
     "metadata": {},
     "output_type": "execute_result"
    }
   ],
   "source": [
    "\n",
    "#1. 將所有轉為周資料\n",
    "week_seris = series.to_period('W')\n",
    "week_seris"
   ]
  },
  {
   "cell_type": "code",
   "execution_count": 3,
   "id": "comfortable-bryan",
   "metadata": {},
   "outputs": [
    {
     "data": {
      "text/plain": [
       "9.5"
      ]
     },
     "execution_count": 3,
     "metadata": {},
     "output_type": "execute_result"
    }
   ],
   "source": [
    "#2. 將周資料的值取平均\n",
    "mean_week = week_seris.mean()\n",
    "mean_week"
   ]
  },
  {
   "cell_type": "code",
   "execution_count": 4,
   "id": "level-vintage",
   "metadata": {},
   "outputs": [
    {
     "data": {
      "text/plain": [
       "2018-12-31/2019-01-06     2.5\n",
       "2019-01-07/2019-01-13     9.0\n",
       "2019-01-14/2019-01-20    16.0\n",
       "Freq: W-SUN, dtype: float64"
      ]
     },
     "execution_count": 4,
     "metadata": {},
     "output_type": "execute_result"
    }
   ],
   "source": [
    "#2. 將周資料的值取平均\n",
    "mean_week = week_seris.resample('W').mean()\n",
    "mean_week"
   ]
  },
  {
   "cell_type": "code",
   "execution_count": null,
   "id": "reported-treasure",
   "metadata": {},
   "outputs": [],
   "source": []
  }
 ],
 "metadata": {
  "kernelspec": {
   "display_name": "Python 3",
   "language": "python",
   "name": "python3"
  },
  "language_info": {
   "codemirror_mode": {
    "name": "ipython",
    "version": 3
   },
   "file_extension": ".py",
   "mimetype": "text/x-python",
   "name": "python",
   "nbconvert_exporter": "python",
   "pygments_lexer": "ipython3",
   "version": "3.9.1"
  }
 },
 "nbformat": 4,
 "nbformat_minor": 5
}
