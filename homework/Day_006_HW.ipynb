{
 "cells": [
  {
   "cell_type": "code",
   "execution_count": 1,
   "id": "external-midwest",
   "metadata": {},
   "outputs": [],
   "source": [
    "import numpy as np"
   ]
  },
  {
   "cell_type": "code",
   "execution_count": 2,
   "id": "later-plenty",
   "metadata": {},
   "outputs": [],
   "source": [
    "#. 將下兩列array存成npz檔\n",
    "array1 = np.array(range(30))\n",
    "array2 = np.array([2,3,5])\n",
    "filename = 'multi_array.npz'\n",
    "\n",
    "with open(filename, 'wb') as f:\n",
    "    np.savez(f, array1, array2)"
   ]
  },
  {
   "cell_type": "code",
   "execution_count": 3,
   "id": "welsh-guide",
   "metadata": {},
   "outputs": [
    {
     "name": "stdout",
     "output_type": "stream",
     "text": [
      "[[4 5 6 1 2 3]]\n"
     ]
    }
   ],
   "source": [
    "# #2. 讀取剛剛的npz檔，加入下列array一起存成新的npz檔\n",
    "array3 = np.array([[4,5,6], [1,2,3]])\n",
    "reshapearr3 = array3.reshape((1, array3.size))\n",
    "npzFile = np.load(filename)\n",
    "data = [npzFile[key] for key in npzFile]\n",
    "data.append(reshapearr3)\n",
    "with open(filename, 'wb') as f:\n",
    "    np.savez(f, *data)\n",
    "\n",
    "npzFile = np.load(filename)\n",
    "print(npzFile['arr_2'])"
   ]
  },
  {
   "cell_type": "code",
   "execution_count": null,
   "id": "previous-efficiency",
   "metadata": {},
   "outputs": [],
   "source": []
  }
 ],
 "metadata": {
  "kernelspec": {
   "display_name": "Python 3",
   "language": "python",
   "name": "python3"
  },
  "language_info": {
   "codemirror_mode": {
    "name": "ipython",
    "version": 3
   },
   "file_extension": ".py",
   "mimetype": "text/x-python",
   "name": "python",
   "nbconvert_exporter": "python",
   "pygments_lexer": "ipython3",
   "version": "3.9.1"
  }
 },
 "nbformat": 4,
 "nbformat_minor": 5
}
