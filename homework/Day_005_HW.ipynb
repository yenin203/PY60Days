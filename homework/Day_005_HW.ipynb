{
 "cells": [
  {
   "cell_type": "code",
   "execution_count": 1,
   "id": "federal-pencil",
   "metadata": {},
   "outputs": [],
   "source": [
    "import numpy as np"
   ]
  },
  {
   "cell_type": "code",
   "execution_count": 2,
   "id": "loving-librarian",
   "metadata": {},
   "outputs": [],
   "source": [
    "english_score = np.array([55,89,76,65,48,70])\n",
    "math_score = np.array([60,85,60,68,np.nan,60])\n",
    "chinese_score = np.array([65,90,82,72,66,77])\n",
    "mean = np.nanmean\n",
    "npmax = np.nanmax\n",
    "npmin = np.nanmin\n",
    "std = np.nanstd"
   ]
  },
  {
   "cell_type": "code",
   "execution_count": 3,
   "id": "celtic-daniel",
   "metadata": {},
   "outputs": [
    {
     "data": {
      "text/plain": [
       "array([75.33333333, 90.        , 65.        ,  8.8254682 ])"
      ]
     },
     "execution_count": 3,
     "metadata": {},
     "output_type": "execute_result"
    }
   ],
   "source": [
    "#1. 請計算各科成績平均、最大值、最小值、標準差，其中數學缺一筆資料可忽略?\n",
    "np.hstack((mean(english_score), npmax(english_score),npmin(english_score),std(english_score)))\n",
    "np.hstack((mean(math_score), npmax(math_score),npmin(math_score),std(math_score)))\n",
    "np.hstack((mean(chinese_score), npmax(chinese_score),npmin(chinese_score), std(chinese_score)))\n"
   ]
  },
  {
   "cell_type": "code",
   "execution_count": 4,
   "id": "metric-treasury",
   "metadata": {},
   "outputs": [
    {
     "data": {
      "text/plain": [
       "array([75.33333333, 90.        , 65.        ,  8.8254682 ])"
      ]
     },
     "execution_count": 4,
     "metadata": {},
     "output_type": "execute_result"
    }
   ],
   "source": [
    "#2. 第五位同學補考數學後成績為55，請計算補考後數學成績平均、最大值、最小值、標準差?\n",
    "math_score[5 - 1] = 55\n",
    "np.hstack((mean(english_score), npmax(english_score),npmin(english_score),std(english_score)))\n",
    "np.hstack((mean(math_score), npmax(math_score),npmin(math_score),std(math_score)))\n",
    "np.hstack((mean(chinese_score), npmax(chinese_score),npmin(chinese_score), std(chinese_score)))"
   ]
  },
  {
   "cell_type": "code",
   "execution_count": 5,
   "id": "attached-oxygen",
   "metadata": {},
   "outputs": [
    {
     "data": {
      "text/plain": [
       "array([[1.        , 0.97792828],\n",
       "       [0.97792828, 1.        ]])"
      ]
     },
     "execution_count": 5,
     "metadata": {},
     "output_type": "execute_result"
    }
   ],
   "source": [
    "#3. 用補考後資料找出與國文成績相關係數最高的學科?\n",
    "np.maximum(np.corrcoef(chinese_score, english_score, rowvar = True), np.corrcoef(chinese_score, math_score, rowvar = True))"
   ]
  }
 ],
 "metadata": {
  "kernelspec": {
   "display_name": "Python 3",
   "language": "python",
   "name": "python3"
  },
  "language_info": {
   "codemirror_mode": {
    "name": "ipython",
    "version": 3
   },
   "file_extension": ".py",
   "mimetype": "text/x-python",
   "name": "python",
   "nbconvert_exporter": "python",
   "pygments_lexer": "ipython3",
   "version": "3.9.1"
  }
 },
 "nbformat": 4,
 "nbformat_minor": 5
}
