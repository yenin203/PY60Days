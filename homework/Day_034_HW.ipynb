{
 "cells": [
  {
   "cell_type": "code",
   "execution_count": 3,
   "id": "adaptive-kenya",
   "metadata": {},
   "outputs": [],
   "source": [
    "# Day_34_HW 掌握 A/B test的精隨 - 假設檢定的概念\n",
    "# 定義出適當的 H0 與 H1\n",
    "\n",
    "# Step1：將抽象情况數值化\n",
    "# Step2：計算 H0 為真實，我們看到實驗狀況的可能性\n",
    "# Step3：確認實驗的狀況是否罕見 \n",
    "# Step4：運用反證法，進行推論\n",
    "# Step5：計算 p 值\n",
    "# Step6：p 值和顯著水準比較，決定接受或拒絕 \n",
    "\n",
    "# 分別對應到假設檢定的 H0 與 H1\n",
    "\n",
    "# H0 稱為虛無假設\n",
    "# H1 稱為對立假設"
   ]
  },
  {
   "cell_type": "code",
   "execution_count": 4,
   "id": "nasty-birth",
   "metadata": {},
   "outputs": [],
   "source": [
    "# Q1：吃減肥藥能在一個月內瘦超過十公斤，\n",
    "# 研究人員想推翻第四台廣告業者的說法，請試著寫出 H0 與 H1。\n",
    "\n",
    "# H0 KG > 10 廣告業者說吃減肥藥『可以』在一個月內瘦超過10公斤\n",
    "# H1 KG <= 10 吃減肥藥『不可以』在一個月內瘦超過10公斤"
   ]
  },
  {
   "cell_type": "code",
   "execution_count": 1,
   "id": "deadly-documentary",
   "metadata": {},
   "outputs": [],
   "source": [
    "# Q2：一位速食店店長認為其品牌在市場之佔有率至多為 12%，\n",
    "# 於是該店長進行一個市場調查，一共訪問了 3000 位消費者，其中有311位表示喜歡該品牌，請試著寫出 H0 與 H1。\n",
    "\n",
    "# H0 速食店店長認為品牌在市場之佔有率至多為 R <= 12%\n",
    "# H1 速食店店長認為品牌在市場之佔有率超過了 R > 12%"
   ]
  }
 ],
 "metadata": {
  "kernelspec": {
   "display_name": "Python 3",
   "language": "python",
   "name": "python3"
  },
  "language_info": {
   "codemirror_mode": {
    "name": "ipython",
    "version": 3
   },
   "file_extension": ".py",
   "mimetype": "text/x-python",
   "name": "python",
   "nbconvert_exporter": "python",
   "pygments_lexer": "ipython3",
   "version": "3.9.1"
  }
 },
 "nbformat": 4,
 "nbformat_minor": 5
}
