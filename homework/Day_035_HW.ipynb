{
 "cells": [
  {
   "cell_type": "code",
   "execution_count": null,
   "id": "hired-upgrade",
   "metadata": {},
   "outputs": [],
   "source": [
    "# 掌握 AB test 的精隨 - 假設檢定的進階概念與種類\n",
    "\n",
    "# 樣本平均值(x̄)是母體平均數(μ)的點估計量(point estimator)。\n",
    "# 母體平均數： μ =2\n",
    "# 母體標準差： σ =1\n",
    "\n",
    "# 在課堂中，檢定 H0：μ ≦ 0，H1：μ > 0，假設在 H0 為真下，分配為 N(0,1)，H1為真下，分配為N(2,1)。\n",
    "# x̄ = (x0 + xn)/n\n",
    "# 如果拒絕域改變時，α 和 β 會怎樣變化。\n",
    "\n",
    "# 1.   假設 x̄ > 2，拒絕 H0，α 會變大／變小？β 會變大／變小？\n",
    "# α變小,β變大\n",
    "# 2.   假設 x̄ > 0.2，拒絕 Ho，會變大／變小？β 會變大/變小？\n",
    "# α變大,β變小\n",
    "# 3.   α 和 β 有關聯性？\n",
    "# 負相關"
   ]
  }
 ],
 "metadata": {
  "kernelspec": {
   "display_name": "Python 3",
   "language": "python",
   "name": "python3"
  },
  "language_info": {
   "codemirror_mode": {
    "name": "ipython",
    "version": 3
   },
   "file_extension": ".py",
   "mimetype": "text/x-python",
   "name": "python",
   "nbconvert_exporter": "python",
   "pygments_lexer": "ipython3",
   "version": "3.9.1"
  }
 },
 "nbformat": 4,
 "nbformat_minor": 5
}
