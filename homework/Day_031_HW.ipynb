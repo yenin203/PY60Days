{
 "cells": [
  {
   "cell_type": "code",
   "execution_count": 1,
   "id": "interracial-raise",
   "metadata": {},
   "outputs": [],
   "source": [
    "# 用機率分布描述亂中有序的世界－離散型分配 (2)\n",
    "# 大樂透必須從01~49中任選6個號碼進行投注。開獎將隨機開出六個號碼加一個特別號\n",
    "# 如果有三個以上對中中期開出的六個號碼即為中獎，特別號只適用於二獎 三獎 肆獎 陸獎 柒獎。\n",
    "import matplotlib.pyplot as plt\n",
    "import numpy as np\n",
    "import pandas as pd\n",
    "from scipy import stats\n",
    "import math\n",
    "import statistics\n"
   ]
  },
  {
   "cell_type": "code",
   "execution_count": 2,
   "id": "searching-advisory",
   "metadata": {},
   "outputs": [],
   "source": [
    "# Q1：大樂透的頭獎，你必須從49個挑選出 6 個號碼，且這六個號碼與頭獎的六個號碼一致，頭獎的機率是屬於哪一種分配？\n",
    "# A: 超幾何分配 \n",
    "# 超幾何分配(Hypergeometric Distribution)描述了\n",
    "# 由有限個物件中抽出n個物件，成功抽出指定種類的物件的個數（不歸還 （without replacement）)\n",
    "# 用於樂透由有限個49號碼中抽出6個號碼，成功抽出指定種類(頭獎)的號碼的個數（不歸還 （without replacement）)"
   ]
  },
  {
   "cell_type": "code",
   "execution_count": 79,
   "id": "subjective-murder",
   "metadata": {},
   "outputs": [
    {
     "name": "stdout",
     "output_type": "stream",
     "text": [
      "[0 1 2 3 4 5 6]\n"
     ]
    },
    {
     "data": {
      "image/png": "[encoded data removed]",
      "text/plain": [
       "<Figure size 432x288 with 1 Axes>"
      ]
     },
     "metadata": {
      "needs_background": "light"
     },
     "output_type": "display_data"
    }
   ],
   "source": [
    "# 若隨機變量X 服從參數，則記為  H(n,K,N)，\n",
    "# 𝑁 : 共有幾個物件, 𝑁 =0,1,…\n",
    "# 𝐾 : 𝑁 個物件中，有 𝐾 個是你關心的物件類型個數, 𝐾 =0,1,2,…, 𝑁\n",
    "# 𝑛 : K個物件，要抽出 𝑛 個物件, 𝑛 =0,1,…, 𝑁\n",
    "#產生一個同樣間隔的序列\n",
    "\n",
    "N=49\n",
    "K=6\n",
    "n=6\n",
    "r = np.arange(0, min(n+1,K+1)) #產出 x 對應點\n",
    "print(r)\n",
    "\n",
    "# 2.計算機率質量函數 (probability mass function)\n",
    "# P(X=x) --> 是機率\n",
    "probs = stats.hypergeom.pmf(r, N, K, n)\n",
    "plt.ylabel('P(X<=x)')\n",
    "plt.xlabel('x')\n",
    "plt.title('cdf of Hypergeometric(N=49,K=6,n=6)')\n",
    "plt.plot(r, probs)\n",
    "plt.show()"
   ]
  },
  {
   "cell_type": "code",
   "execution_count": 87,
   "id": "lonely-cooperation",
   "metadata": {},
   "outputs": [
    {
     "data": {
      "text/plain": [
       "7.151123842018523e-08"
      ]
     },
     "execution_count": 87,
     "metadata": {},
     "output_type": "execute_result"
    }
   ],
   "source": [
    "# Q2：運用範例的 python 程式碼，計算大樂透的中頭獎機率？\n",
    "probs[6]"
   ]
  },
  {
   "cell_type": "code",
   "execution_count": 112,
   "id": "billion-stomach",
   "metadata": {},
   "outputs": [
    {
     "data": {
      "text/plain": [
       "'0.00000007151123842018523%'"
      ]
     },
     "execution_count": 112,
     "metadata": {},
     "output_type": "execute_result"
    }
   ],
   "source": [
    "# 是7.15 * 10^(-8), 7.151123842018523 乘以10的-8次方\n",
    "'0.00000007151123842018523%'"
   ]
  },
  {
   "cell_type": "code",
   "execution_count": 100,
   "id": "junior-treasury",
   "metadata": {},
   "outputs": [],
   "source": [
    "# Q3：你覺得電腦簽注的中獎機率，和人腦簽注相比，哪一個機率高？\n",
    "# 機率一樣"
   ]
  },
  {
   "cell_type": "code",
   "execution_count": null,
   "id": "heavy-target",
   "metadata": {},
   "outputs": [],
   "source": []
  }
 ],
 "metadata": {
  "kernelspec": {
   "display_name": "Python 3",
   "language": "python",
   "name": "python3"
  },
  "language_info": {
   "codemirror_mode": {
    "name": "ipython",
    "version": 3
   },
   "file_extension": ".py",
   "mimetype": "text/x-python",
   "name": "python",
   "nbconvert_exporter": "python",
   "pygments_lexer": "ipython3",
   "version": "3.9.1"
  }
 },
 "nbformat": 4,
 "nbformat_minor": 5
}
