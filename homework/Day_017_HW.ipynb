{
 "cells": [
  {
   "cell_type": "code",
   "execution_count": 1,
   "id": "prime-uncle",
   "metadata": {},
   "outputs": [],
   "source": [
    "import time\n",
    "import pandas as pd\n",
    "import tables\n",
    "testFileName = 'boston'\n",
    "csv = '.csv'\n",
    "pkl = '.pkl'\n",
    "hdf = '.hdf'"
   ]
  },
  {
   "cell_type": "code",
   "execution_count": 2,
   "id": "alien-virtue",
   "metadata": {},
   "outputs": [
    {
     "name": "stdout",
     "output_type": "stream",
     "text": [
      "2.44 ms ± 86.7 µs per loop (mean ± std. dev. of 7 runs, 100 loops each)\n"
     ]
    }
   ],
   "source": [
    "%%timeit\n",
    "df = pd.read_csv(testFileName + csv)"
   ]
  },
  {
   "cell_type": "code",
   "execution_count": 3,
   "id": "subtle-founder",
   "metadata": {},
   "outputs": [
    {
     "name": "stdout",
     "output_type": "stream",
     "text": [
      "520 µs ± 9.54 µs per loop (mean ± std. dev. of 7 runs, 1000 loops each)\n"
     ]
    }
   ],
   "source": [
    "%%timeit\n",
    "df = pd.read_pickle(testFileName + pkl)"
   ]
  },
  {
   "cell_type": "code",
   "execution_count": 4,
   "id": "regular-parts",
   "metadata": {},
   "outputs": [],
   "source": [
    "# mac command : \n",
    "# 1. `brew install hdf5`\n",
    "# 2. `brew install c-blosc`\n",
    "# 3. pip3 install tables\n",
    "# df.to_hdf(\"boston.hdf\", \"tablekey\", append=True)"
   ]
  },
  {
   "cell_type": "code",
   "execution_count": 5,
   "id": "pending-circular",
   "metadata": {},
   "outputs": [
    {
     "name": "stdout",
     "output_type": "stream",
     "text": [
      "7.94 ms ± 130 µs per loop (mean ± std. dev. of 7 runs, 100 loops each)\n"
     ]
    }
   ],
   "source": [
    "%%timeit\n",
    "df = pd.read_hdf(testFileName + hdf,'tablekey') #讀取"
   ]
  },
  {
   "cell_type": "code",
   "execution_count": 6,
   "id": "gothic-jimmy",
   "metadata": {},
   "outputs": [],
   "source": [
    "#在速度較慢的時候，可以先從哪邊開始檢查？\n",
    "#answer 1: 讀取資料型態"
   ]
  },
  {
   "cell_type": "code",
   "execution_count": 7,
   "id": "effective-barbados",
   "metadata": {},
   "outputs": [],
   "source": [
    "#資料過大時應採取什麼方式讓記憶體占用量下降？\n",
    "#answer2: 欄位的型態降級有助於減少記憶體佔用空間"
   ]
  }
 ],
 "metadata": {
  "kernelspec": {
   "display_name": "Python 3",
   "language": "python",
   "name": "python3"
  },
  "language_info": {
   "codemirror_mode": {
    "name": "ipython",
    "version": 3
   },
   "file_extension": ".py",
   "mimetype": "text/x-python",
   "name": "python",
   "nbconvert_exporter": "python",
   "pygments_lexer": "ipython3",
   "version": "3.9.1"
  }
 },
 "nbformat": 4,
 "nbformat_minor": 5
}
